{
 "cells": [
  {
   "cell_type": "code",
   "execution_count": 7,
   "metadata": {},
   "outputs": [
    {
     "name": "stdout",
     "output_type": "stream",
     "text": [
      "[11, 12, 22, 25, 34, 64, 90]\n"
     ]
    }
   ],
   "source": [
    "# Python Program for implementation of  \n",
    "# Recursive Bubble sort \n",
    "  \n",
    "def bubble_sort(listt): \n",
    "    for i, num in enumerate(listt): \n",
    "        try: \n",
    "            if listt[i+1] < num: \n",
    "                #listt[i] = listt[i+1] \n",
    "                #listt[i+1] = num \n",
    "                listt[i], listt[i+1]=listt[i+1], num\n",
    "                bubble_sort(listt) \n",
    "        except IndexError: \n",
    "            pass\n",
    "    return listt \n",
    "  \n",
    "listt = [64, 34, 25, 12, 22, 11, 90] \n",
    "bubble_sort(listt) \n",
    "\n",
    "print(listt)"
   ]
  },
  {
   "cell_type": "code",
   "execution_count": null,
   "metadata": {},
   "outputs": [],
   "source": [
    "print(\"Sorted array:\"); \n",
    "for i in range(0, len(listt)): \n",
    "    print(listt[i], end=' ')"
   ]
  },
  {
   "cell_type": "markdown",
   "metadata": {},
   "source": [
    "##### Example of enumerate"
   ]
  },
  {
   "cell_type": "code",
   "execution_count": 5,
   "metadata": {},
   "outputs": [
    {
     "name": "stdout",
     "output_type": "stream",
     "text": [
      "(0, 'bread')\n",
      "(1, 'milk')\n",
      "(2, 'butter')\n",
      "\n",
      "\n",
      "0 bread\n",
      "1 milk\n",
      "2 butter\n",
      "\n",
      "\n",
      "100 bread\n",
      "101 milk\n",
      "102 butter\n"
     ]
    }
   ],
   "source": [
    "grocery = ['bread', 'milk', 'butter']\n",
    "\n",
    "for item in enumerate(grocery):\n",
    "  print(item)\n",
    "\n",
    "print('\\n')\n",
    "for count, item in enumerate(grocery):\n",
    "  print(count, item)\n",
    "\n",
    "print('\\n')\n",
    "# changing default start value\n",
    "for count, item in enumerate(grocery, 100):\n",
    "  print(count, item)"
   ]
  },
  {
   "cell_type": "code",
   "execution_count": 8,
   "metadata": {},
   "outputs": [],
   "source": [
    "### Best case O(n) worst case O(n^2)\n",
    "### Space complexity: O(n)"
   ]
  },
  {
   "cell_type": "code",
   "execution_count": 9,
   "metadata": {},
   "outputs": [],
   "source": [
    "## We are calling the same function recursively for each element of the array and inside the function, we are looping till the given length of the array, So Time complexity is O(n ^ n) = O(n ^ 2).\n",
    "## We are recursively calling the function for each element of the array, So space complexity is O(n)."
   ]
  },
  {
   "cell_type": "code",
   "execution_count": null,
   "metadata": {},
   "outputs": [],
   "source": []
  }
 ],
 "metadata": {
  "kernelspec": {
   "display_name": "Python 3",
   "language": "python",
   "name": "python3"
  },
  "language_info": {
   "codemirror_mode": {
    "name": "ipython",
    "version": 3
   },
   "file_extension": ".py",
   "mimetype": "text/x-python",
   "name": "python",
   "nbconvert_exporter": "python",
   "pygments_lexer": "ipython3",
   "version": "3.7.3"
  }
 },
 "nbformat": 4,
 "nbformat_minor": 2
}
