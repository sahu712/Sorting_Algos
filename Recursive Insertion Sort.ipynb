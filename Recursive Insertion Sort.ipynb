{
 "cells": [
  {
   "cell_type": "code",
   "execution_count": 9,
   "metadata": {},
   "outputs": [],
   "source": [
    "def insertionSortWithRecursive(arr,n):\n",
    "    # base case \n",
    "    if n<=1: \n",
    "        return\n",
    "      \n",
    "    # Sort first n-1 elements \n",
    "    insertionSortWithRecursive(arr,n-1) \n",
    "    '''Insert last element at its correct position \n",
    "        in sorted array.'''\n",
    "    last = arr[n-1] \n",
    "    j = n-2\n",
    "      \n",
    "      # Move elements of arr[0..i-1], that are \n",
    "      # greater than key, to one position ahead \n",
    "      # of their current position  \n",
    "    while (j>=0 and arr[j]>last): \n",
    "        arr[j+1] = arr[j] \n",
    "        j = j-1\n",
    "  \n",
    "    arr[j+1]=last"
   ]
  },
  {
   "cell_type": "code",
   "execution_count": 10,
   "metadata": {},
   "outputs": [
    {
     "name": "stdout",
     "output_type": "stream",
     "text": [
      "[5, 6, 11, 12, 13]\n"
     ]
    }
   ],
   "source": [
    "# Driver program to test insertion sort  \n",
    "arr = [12,11,13,5,6] \n",
    "n = len(arr) \n",
    "insertionSortWithRecursive(arr, n) \n",
    "print(arr) "
   ]
  },
  {
   "cell_type": "code",
   "execution_count": null,
   "metadata": {},
   "outputs": [],
   "source": []
  }
 ],
 "metadata": {
  "kernelspec": {
   "display_name": "Python 3",
   "language": "python",
   "name": "python3"
  },
  "language_info": {
   "codemirror_mode": {
    "name": "ipython",
    "version": 3
   },
   "file_extension": ".py",
   "mimetype": "text/x-python",
   "name": "python",
   "nbconvert_exporter": "python",
   "pygments_lexer": "ipython3",
   "version": "3.7.3"
  }
 },
 "nbformat": 4,
 "nbformat_minor": 2
}
