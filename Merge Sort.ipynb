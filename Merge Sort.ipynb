{
 "cells": [
  {
   "cell_type": "markdown",
   "metadata": {},
   "source": [
    "###### Like QuickSort, Merge Sort is a Divide and Conquer algorithm. It divides input array in two halves, calls itself for the two halves and then merges the two sorted halves. The merge() function is used for merging two halves. The merge(arr, l, m, r) is key process that assumes that arr[l..m] and arr[m+1..r] are sorted and merges the two sorted sub-arrays into one."
   ]
  },
  {
   "cell_type": "code",
   "execution_count": 1,
   "metadata": {},
   "outputs": [],
   "source": [
    "# Python program for implementation of MergeSort "
   ]
  },
  {
   "cell_type": "code",
   "execution_count": 35,
   "metadata": {},
   "outputs": [],
   "source": [
    "def mergeSort(arr):\n",
    "    if len(arr)>1:\n",
    "        mid = len(arr)//2 ##finding the mid of the array\n",
    "        left_arr = arr[:mid] ## Dividing the array elements into 2 half\n",
    "        right_arr = arr[mid:]\n",
    "        \n",
    "        mergeSort(left_arr) ## Dividing the left_arr further\n",
    "        #print(left_arr)\n",
    "    \n",
    "        mergeSort(right_arr) ## Dividing the right_arr further\n",
    "        #print(right_arr)\n",
    "        \n",
    "        i = j = k = 0\n",
    "        \n",
    "        #copy the data to temp array\n",
    "        \n",
    "        while i < len(left_arr) and j < len(right_arr):\n",
    "            if left_arr[i] < right_arr[j]:\n",
    "                arr[k] = left_arr[i]\n",
    "                i+=1\n",
    "            else:\n",
    "                arr[k] = right_arr[j]\n",
    "                j+=1\n",
    "            k+=1\n",
    "        \n",
    "        #Checking if any element was left\n",
    "        while i<len(left_arr):\n",
    "            arr[k] = left_arr[i]\n",
    "            i+=1\n",
    "            k+=1\n",
    "        \n",
    "        while j<len(right_arr):\n",
    "            arr[k] = right_arr[j]\n",
    "            j+=1\n",
    "            k+=1"
   ]
  },
  {
   "cell_type": "code",
   "execution_count": 36,
   "metadata": {},
   "outputs": [
    {
     "name": "stdout",
     "output_type": "stream",
     "text": [
      "[5, 6, 7, 11, 12, 13]\n"
     ]
    }
   ],
   "source": [
    "arr = [12, 11, 13, 5, 6, 7]\n",
    "mergeSort(arr)\n",
    "print(arr)"
   ]
  }
 ],
 "metadata": {
  "kernelspec": {
   "display_name": "Python 3",
   "language": "python",
   "name": "python3"
  },
  "language_info": {
   "codemirror_mode": {
    "name": "ipython",
    "version": 3
   },
   "file_extension": ".py",
   "mimetype": "text/x-python",
   "name": "python",
   "nbconvert_exporter": "python",
   "pygments_lexer": "ipython3",
   "version": "3.7.3"
  }
 },
 "nbformat": 4,
 "nbformat_minor": 2
}
