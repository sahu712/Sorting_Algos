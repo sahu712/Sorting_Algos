{
 "cells": [
  {
   "cell_type": "code",
   "execution_count": 13,
   "metadata": {},
   "outputs": [],
   "source": [
    "def sort(nums):\n",
    "    \n",
    "    for i in range(len(nums)):\n",
    "        minpos = i\n",
    "        for j in range(i, len(nums)):\n",
    "            if nums[j]<nums[minpos]:\n",
    "                minpos = j\n",
    "        \n",
    "        nums[i], nums[minpos]=nums[minpos],nums[i]\n",
    "        #temps = nums[i]\n",
    "        #nums[i] = nums[minpos]\n",
    "        #nums[minpos] = temps\n",
    "        \n",
    "        #print(nums)"
   ]
  },
  {
   "cell_type": "code",
   "execution_count": 14,
   "metadata": {},
   "outputs": [
    {
     "name": "stdout",
     "output_type": "stream",
     "text": [
      "[2, 3, 5, 6, 7, 8]\n"
     ]
    }
   ],
   "source": [
    "nums = [5, 3, 8, 6, 7, 2]\n",
    "sort(nums)\n",
    "\n",
    "print(nums)"
   ]
  },
  {
   "cell_type": "markdown",
   "metadata": {},
   "source": [
    "##### Time Complexity: O(n2) as there are two nested loops.\n",
    "\n",
    "##### Auxiliary Space: O(1)\n",
    "##### The good thing about selection sort is it never makes more than O(n) swaps and can be useful when memory write is a costly operation."
   ]
  },
  {
   "cell_type": "code",
   "execution_count": null,
   "metadata": {},
   "outputs": [],
   "source": []
  }
 ],
 "metadata": {
  "kernelspec": {
   "display_name": "Python 3",
   "language": "python",
   "name": "python3"
  },
  "language_info": {
   "codemirror_mode": {
    "name": "ipython",
    "version": 3
   },
   "file_extension": ".py",
   "mimetype": "text/x-python",
   "name": "python",
   "nbconvert_exporter": "python",
   "pygments_lexer": "ipython3",
   "version": "3.7.3"
  }
 },
 "nbformat": 4,
 "nbformat_minor": 2
}
