{
 "cells": [
  {
   "cell_type": "code",
   "execution_count": 10,
   "metadata": {},
   "outputs": [],
   "source": [
    "def sort(nums):\n",
    "    for i in range(len(nums)-1, 0, -1):\n",
    "        for j in range(i):\n",
    "            if nums[j]>nums[j+1]:\n",
    "                nums[j], nums[j+1] = nums[j+1], nums[j]"
   ]
  },
  {
   "cell_type": "code",
   "execution_count": 11,
   "metadata": {},
   "outputs": [
    {
     "name": "stdout",
     "output_type": "stream",
     "text": [
      "[3, 5, 6, 7, 2, 8]\n",
      "[3, 5, 6, 2, 7, 8]\n",
      "[3, 5, 2, 6, 7, 8]\n",
      "[3, 2, 5, 6, 7, 8]\n",
      "[2, 3, 5, 6, 7, 8]\n",
      "[2, 3, 5, 6, 7, 8]\n"
     ]
    }
   ],
   "source": [
    "nums = [5, 3, 8, 6, 7, 2]\n",
    "sort(nums)\n",
    "\n",
    "print(nums)"
   ]
  },
  {
   "cell_type": "code",
   "execution_count": 12,
   "metadata": {},
   "outputs": [],
   "source": [
    "def bubbleSort(arr): \n",
    "    n = len(arr) \n",
    "  \n",
    "    # Traverse through all array elements \n",
    "    for i in range(n): \n",
    "  \n",
    "        # Last i elements are already in place \n",
    "        for j in range(0, n-i-1): \n",
    "  \n",
    "            # traverse the array from 0 to n-i-1 \n",
    "            # Swap if the element found is greater \n",
    "            # than the next element \n",
    "            if arr[j] > arr[j+1] : \n",
    "                arr[j], arr[j+1] = arr[j+1], arr[j] "
   ]
  },
  {
   "cell_type": "code",
   "execution_count": 13,
   "metadata": {},
   "outputs": [
    {
     "name": "stdout",
     "output_type": "stream",
     "text": [
      "[2, 3, 5, 6, 7, 8]\n"
     ]
    }
   ],
   "source": [
    "nums = [5, 3, 8, 6, 7, 2]\n",
    "bubbleSort(nums)\n",
    "\n",
    "print(nums)"
   ]
  },
  {
   "cell_type": "code",
   "execution_count": null,
   "metadata": {},
   "outputs": [],
   "source": []
  }
 ],
 "metadata": {
  "kernelspec": {
   "display_name": "Python 3",
   "language": "python",
   "name": "python3"
  },
  "language_info": {
   "codemirror_mode": {
    "name": "ipython",
    "version": 3
   },
   "file_extension": ".py",
   "mimetype": "text/x-python",
   "name": "python",
   "nbconvert_exporter": "python",
   "pygments_lexer": "ipython3",
   "version": "3.7.3"
  }
 },
 "nbformat": 4,
 "nbformat_minor": 2
}
